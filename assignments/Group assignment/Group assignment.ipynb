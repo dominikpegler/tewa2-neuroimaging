{
 "cells": [
  {
   "cell_type": "markdown",
   "id": "14f2125f-74b0-47d9-840e-3bed46268063",
   "metadata": {},
   "source": [
    "Group assignment: Second-level analysis\n",
    "===\n",
    "\n",
    "## Goals\n",
    "- Perform second-level analysis on a real-world dataset\n",
    "- Present the results in the form of a data blitz (short presentation giving an overview on the research).\n",
    "## Task\n",
    "- Perform a (partial) replication of the associated paper’s statistical analysis\n",
    "- Present results (note that you may not be able to perform every analysis included in the original study due to missing data or complexity etc.).\n",
    "- You get extra points by including further analyses you can think of (however, you should discuss this with us before implementing it, so we can make sure that everything is correct).  \n",
    "\n",
    "## Data\n",
    "- Already preprocessed and modelled on a first level with contrast maps for each subject.\n",
    "\n",
    "\n",
    "## Steps\n",
    "### 1. Definition of research project:\n",
    "- Basic replication using the data available to you, including\n",
    "    - Whole-brain univariate analysis\n",
    "    - ROI analysis (alternatively: connectivity analysis)\n",
    "    - Additional analyses (optional, discuss first with us)\n",
    "### 2. Project presentation (13.12.2022):\n",
    "- Briefly present study/analysis plan\n",
    "- 5 minutes; 5 slides; one person presents\n",
    "- Suggested slide outline: 1 slide study/background, 1 slide study design, 2 slides analysis plan, 1 slide outlook/implications\n",
    "- ad. analysis plan:\n",
    "    - Present the analysis described in the paper; state which parts you want to take for your own analysis and which not (and why)\n",
    "    - Please upload the slides on Moodle before the practical (13.12.22); this will act as an internal ‘pre-registration’ of the research project\n",
    "### 3. Potential revision of research project:\n",
    "- After the project presentation, incorporate feedback and perhaps upload a revised version of the slides\n",
    "### 4. Work on analysis:\n",
    "- The contrast maps will be provided as soon as possible (most likely before the 13th December; if you want to start before that, you can setup your analysis using dummy data (e.g. using Nilearn’s fetch_localizer_contrasts() function )\n",
    "### 5. Uploaded recorded status quo presentation (17.01.2023):\n",
    "- Please record (e.g., using Zoom) a brief presentation of the status quo of your analysis (precise instructions will follow). We will provide feedback that you can incorporate into your analysis and final slides.\n",
    "### 6. Prepare data blitz presentation\n",
    "- Precise instructions will follow\n",
    "- Hand in final slides: 24.01.2023 (via Moodle)\n",
    "### 7. Data blitz (25.01.2023):\n",
    "- Hold presentation at data blitz session with SCAN-Unit members.\n",
    "- precise instructions will follow\n",
    "- We will determine the “winner” presentation based on audience vote (does not count for the grade, but just as a motivation).\n"
   ]
  },
  {
   "cell_type": "markdown",
   "id": "61db01b1-8d5f-47ed-9d14-5024cfd43e2a",
   "metadata": {},
   "source": [
    "# 0. Setup"
   ]
  },
  {
   "cell_type": "markdown",
   "id": "55b1b5d3-13d5-46eb-b97c-3d872789cd58",
   "metadata": {},
   "source": [
    "## Imports"
   ]
  },
  {
   "cell_type": "code",
   "execution_count": 57,
   "id": "2d958826-e8a7-4efc-8c9c-407b9903ce1a",
   "metadata": {},
   "outputs": [],
   "source": [
    "import jupyter_black\n",
    "\n",
    "jupyter_black.load()"
   ]
  },
  {
   "cell_type": "code",
   "execution_count": 58,
   "id": "f6e4b183-7529-4bad-bdb3-710202daf2bc",
   "metadata": {},
   "outputs": [
    {
     "name": "stdout",
     "output_type": "stream",
     "text": [
      "'FSLDIR': /opt/fsl-5.0.11\n",
      "'FSLOUTPUTTYPE': NIFTI\n"
     ]
    }
   ],
   "source": [
    "from nipype import config\n",
    "import os\n",
    "from os.path import join as opj, abspath\n",
    "import numpy as np\n",
    "import pandas as pd\n",
    "from nilearn import datasets, plotting, image\n",
    "from pprint import pprint\n",
    "\n",
    "\n",
    "config.update_config(\n",
    "    {\n",
    "        \"logging\": {\"workflow_level\": \"INFO\"},\n",
    "        \"execution\": {\n",
    "            \"stop_on_first_crash\": \"True\",\n",
    "            \"hash_method\": \"content\",\n",
    "            \"remove_unnecessary_outputs\": \"True\",\n",
    "        },\n",
    "    }\n",
    ")\n",
    "\n",
    "\n",
    "# Check if ENV variables are set\n",
    "print(\"'FSLDIR':\", os.environ[\"FSLDIR\"])\n",
    "print(\"'FSLOUTPUTTYPE':\", os.environ[\"FSLOUTPUTTYPE\"])\n",
    "\n",
    "fslpath = os.environ[\"FSLDIR\"]\n",
    "\n",
    "data_dir = \"data\""
   ]
  },
  {
   "cell_type": "markdown",
   "id": "2f7fcd79-6807-4878-adfa-9f8e0ad8c809",
   "metadata": {},
   "source": [
    "## Download data"
   ]
  },
  {
   "cell_type": "code",
   "execution_count": 59,
   "id": "a3437139-a40e-4705-84be-f718f5cf0a08",
   "metadata": {},
   "outputs": [
    {
     "name": "stderr",
     "output_type": "stream",
     "text": [
      "/usr/local/lib/python3.9/site-packages/nilearn/datasets/func.py:764: UserWarning: `legacy_format` will default to `False` in release 0.11. Dataset fetchers will then return pandas dataframes by default instead of recarrays.\n",
      "  warnings.warn(_LEGACY_FORMAT_MSG)\n"
     ]
    }
   ],
   "source": [
    "n_subjects = 20\n",
    "\n",
    "con_left_right = datasets.fetch_localizer_contrasts(\n",
    "    [\"right vs left button press\"], n_subjects, verbose=0, data_dir=data_dir\n",
    ")"
   ]
  },
  {
   "cell_type": "code",
   "execution_count": 60,
   "id": "0ac30e2d-29ea-416c-a59d-d1f4470e4399",
   "metadata": {},
   "outputs": [
    {
     "name": "stdout",
     "output_type": "stream",
     "text": [
      "data is stored in: /main/assignments/Group assignment/data\n"
     ]
    }
   ],
   "source": [
    "print(f\"data is stored in: {abspath(data_dir)}\")"
   ]
  },
  {
   "cell_type": "code",
   "execution_count": 61,
   "id": "ec3ce07b-658e-4b12-a03d-494949cad716",
   "metadata": {},
   "outputs": [
    {
     "name": "stdout",
     "output_type": "stream",
     "text": [
      "['/main/assignments/Group '\n",
      " 'assignment/data/brainomics_localizer/brainomics_data/S01/cmaps_RightAuditory&VisualClickVsLeftAuditory&VisualClick.nii.gz',\n",
      " '/main/assignments/Group '\n",
      " 'assignment/data/brainomics_localizer/brainomics_data/S02/cmaps_RightAuditory&VisualClickVsLeftAuditory&VisualClick.nii.gz',\n",
      " '/main/assignments/Group '\n",
      " 'assignment/data/brainomics_localizer/brainomics_data/S03/cmaps_RightAuditory&VisualClickVsLeftAuditory&VisualClick.nii.gz',\n",
      " '/main/assignments/Group '\n",
      " 'assignment/data/brainomics_localizer/brainomics_data/S04/cmaps_RightAuditory&VisualClickVsLeftAuditory&VisualClick.nii.gz',\n",
      " '/main/assignments/Group '\n",
      " 'assignment/data/brainomics_localizer/brainomics_data/S05/cmaps_RightAuditory&VisualClickVsLeftAuditory&VisualClick.nii.gz',\n",
      " '/main/assignments/Group '\n",
      " 'assignment/data/brainomics_localizer/brainomics_data/S06/cmaps_RightAuditory&VisualClickVsLeftAuditory&VisualClick.nii.gz',\n",
      " '/main/assignments/Group '\n",
      " 'assignment/data/brainomics_localizer/brainomics_data/S07/cmaps_RightAuditory&VisualClickVsLeftAuditory&VisualClick.nii.gz',\n",
      " '/main/assignments/Group '\n",
      " 'assignment/data/brainomics_localizer/brainomics_data/S08/cmaps_RightAuditory&VisualClickVsLeftAuditory&VisualClick.nii.gz',\n",
      " '/main/assignments/Group '\n",
      " 'assignment/data/brainomics_localizer/brainomics_data/S09/cmaps_RightAuditory&VisualClickVsLeftAuditory&VisualClick.nii.gz',\n",
      " '/main/assignments/Group '\n",
      " 'assignment/data/brainomics_localizer/brainomics_data/S10/cmaps_RightAuditory&VisualClickVsLeftAuditory&VisualClick.nii.gz',\n",
      " '/main/assignments/Group '\n",
      " 'assignment/data/brainomics_localizer/brainomics_data/S11/cmaps_RightAuditory&VisualClickVsLeftAuditory&VisualClick.nii.gz',\n",
      " '/main/assignments/Group '\n",
      " 'assignment/data/brainomics_localizer/brainomics_data/S12/cmaps_RightAuditory&VisualClickVsLeftAuditory&VisualClick.nii.gz',\n",
      " '/main/assignments/Group '\n",
      " 'assignment/data/brainomics_localizer/brainomics_data/S13/cmaps_RightAuditory&VisualClickVsLeftAuditory&VisualClick.nii.gz',\n",
      " '/main/assignments/Group '\n",
      " 'assignment/data/brainomics_localizer/brainomics_data/S14/cmaps_RightAuditory&VisualClickVsLeftAuditory&VisualClick.nii.gz',\n",
      " '/main/assignments/Group '\n",
      " 'assignment/data/brainomics_localizer/brainomics_data/S15/cmaps_RightAuditory&VisualClickVsLeftAuditory&VisualClick.nii.gz',\n",
      " '/main/assignments/Group '\n",
      " 'assignment/data/brainomics_localizer/brainomics_data/S16/cmaps_RightAuditory&VisualClickVsLeftAuditory&VisualClick.nii.gz',\n",
      " '/main/assignments/Group '\n",
      " 'assignment/data/brainomics_localizer/brainomics_data/S17/cmaps_RightAuditory&VisualClickVsLeftAuditory&VisualClick.nii.gz',\n",
      " '/main/assignments/Group '\n",
      " 'assignment/data/brainomics_localizer/brainomics_data/S18/cmaps_RightAuditory&VisualClickVsLeftAuditory&VisualClick.nii.gz',\n",
      " '/main/assignments/Group '\n",
      " 'assignment/data/brainomics_localizer/brainomics_data/S19/cmaps_RightAuditory&VisualClickVsLeftAuditory&VisualClick.nii.gz',\n",
      " '/main/assignments/Group '\n",
      " 'assignment/data/brainomics_localizer/brainomics_data/S20/cmaps_RightAuditory&VisualClickVsLeftAuditory&VisualClick.nii.gz']\n",
      "\n",
      "There are 20 contrast maps\n"
     ]
    }
   ],
   "source": [
    "from glob import glob\n",
    "\n",
    "cmaps = sorted(\n",
    "    glob(\n",
    "        f\"{abspath(data_dir)}/brainomics_localizer/brainomics_data/**/*.nii.gz\",\n",
    "        recursive=True,\n",
    "    )\n",
    ")\n",
    "\n",
    "pprint(cmaps)\n",
    "print(f\"\\nThere are {len(cmaps)} contrast maps\")"
   ]
  },
  {
   "cell_type": "code",
   "execution_count": 62,
   "id": "952e9a65-b1bd-40ce-bf7e-71b1d9622e19",
   "metadata": {},
   "outputs": [
    {
     "name": "stdout",
     "output_type": "stream",
     "text": [
      "['sub-01',\n",
      " 'sub-02',\n",
      " 'sub-03',\n",
      " 'sub-04',\n",
      " 'sub-05',\n",
      " 'sub-06',\n",
      " 'sub-07',\n",
      " 'sub-08',\n",
      " 'sub-09',\n",
      " 'sub-10',\n",
      " 'sub-11',\n",
      " 'sub-12',\n",
      " 'sub-13',\n",
      " 'sub-14',\n",
      " 'sub-15',\n",
      " 'sub-16',\n",
      " 'sub-17',\n",
      " 'sub-18',\n",
      " 'sub-19',\n",
      " 'sub-20']\n"
     ]
    }
   ],
   "source": [
    "subject_list = [f\"sub-{i:02d}\" for i in range(1, n_subjects + 1)]\n",
    "pprint(subject_list)"
   ]
  },
  {
   "cell_type": "markdown",
   "id": "7995e7d1-350e-453b-bb66-83746e19bf3a",
   "metadata": {},
   "source": [
    "# Second-level analysis"
   ]
  },
  {
   "cell_type": "markdown",
   "id": "cfb20529-4f00-497e-b40e-f900db584036",
   "metadata": {},
   "source": [
    "## Basic model"
   ]
  },
  {
   "cell_type": "code",
   "execution_count": 63,
   "id": "f81775b1-4706-4922-b48c-5bbc10cb34e4",
   "metadata": {},
   "outputs": [
    {
     "data": {
      "text/html": [
       "<div>\n",
       "<style scoped>\n",
       "    .dataframe tbody tr th:only-of-type {\n",
       "        vertical-align: middle;\n",
       "    }\n",
       "\n",
       "    .dataframe tbody tr th {\n",
       "        vertical-align: top;\n",
       "    }\n",
       "\n",
       "    .dataframe thead th {\n",
       "        text-align: right;\n",
       "    }\n",
       "</style>\n",
       "<table border=\"1\" class=\"dataframe\">\n",
       "  <thead>\n",
       "    <tr style=\"text-align: right;\">\n",
       "      <th></th>\n",
       "      <th>intercept</th>\n",
       "    </tr>\n",
       "  </thead>\n",
       "  <tbody>\n",
       "    <tr>\n",
       "      <th>sub-01</th>\n",
       "      <td>1</td>\n",
       "    </tr>\n",
       "    <tr>\n",
       "      <th>sub-02</th>\n",
       "      <td>1</td>\n",
       "    </tr>\n",
       "    <tr>\n",
       "      <th>sub-03</th>\n",
       "      <td>1</td>\n",
       "    </tr>\n",
       "    <tr>\n",
       "      <th>sub-04</th>\n",
       "      <td>1</td>\n",
       "    </tr>\n",
       "    <tr>\n",
       "      <th>sub-05</th>\n",
       "      <td>1</td>\n",
       "    </tr>\n",
       "    <tr>\n",
       "      <th>sub-06</th>\n",
       "      <td>1</td>\n",
       "    </tr>\n",
       "    <tr>\n",
       "      <th>sub-07</th>\n",
       "      <td>1</td>\n",
       "    </tr>\n",
       "    <tr>\n",
       "      <th>sub-08</th>\n",
       "      <td>1</td>\n",
       "    </tr>\n",
       "    <tr>\n",
       "      <th>sub-09</th>\n",
       "      <td>1</td>\n",
       "    </tr>\n",
       "    <tr>\n",
       "      <th>sub-10</th>\n",
       "      <td>1</td>\n",
       "    </tr>\n",
       "    <tr>\n",
       "      <th>sub-11</th>\n",
       "      <td>1</td>\n",
       "    </tr>\n",
       "    <tr>\n",
       "      <th>sub-12</th>\n",
       "      <td>1</td>\n",
       "    </tr>\n",
       "    <tr>\n",
       "      <th>sub-13</th>\n",
       "      <td>1</td>\n",
       "    </tr>\n",
       "    <tr>\n",
       "      <th>sub-14</th>\n",
       "      <td>1</td>\n",
       "    </tr>\n",
       "    <tr>\n",
       "      <th>sub-15</th>\n",
       "      <td>1</td>\n",
       "    </tr>\n",
       "    <tr>\n",
       "      <th>sub-16</th>\n",
       "      <td>1</td>\n",
       "    </tr>\n",
       "    <tr>\n",
       "      <th>sub-17</th>\n",
       "      <td>1</td>\n",
       "    </tr>\n",
       "    <tr>\n",
       "      <th>sub-18</th>\n",
       "      <td>1</td>\n",
       "    </tr>\n",
       "    <tr>\n",
       "      <th>sub-19</th>\n",
       "      <td>1</td>\n",
       "    </tr>\n",
       "    <tr>\n",
       "      <th>sub-20</th>\n",
       "      <td>1</td>\n",
       "    </tr>\n",
       "  </tbody>\n",
       "</table>\n",
       "</div>"
      ],
      "text/plain": [
       "        intercept\n",
       "sub-01          1\n",
       "sub-02          1\n",
       "sub-03          1\n",
       "sub-04          1\n",
       "sub-05          1\n",
       "sub-06          1\n",
       "sub-07          1\n",
       "sub-08          1\n",
       "sub-09          1\n",
       "sub-10          1\n",
       "sub-11          1\n",
       "sub-12          1\n",
       "sub-13          1\n",
       "sub-14          1\n",
       "sub-15          1\n",
       "sub-16          1\n",
       "sub-17          1\n",
       "sub-18          1\n",
       "sub-19          1\n",
       "sub-20          1"
      ]
     },
     "execution_count": 63,
     "metadata": {},
     "output_type": "execute_result"
    }
   ],
   "source": [
    "design_matrix = pd.DataFrame(\n",
    "    [1] * n_subjects, columns=[\"intercept\"], index=subject_list\n",
    ")\n",
    "\n",
    "design_matrix"
   ]
  },
  {
   "cell_type": "code",
   "execution_count": 64,
   "id": "26e4e12e-eae6-4215-8cd5-3910e94efe1e",
   "metadata": {},
   "outputs": [
    {
     "data": {
      "text/plain": [
       "<nilearn.plotting.displays._slicers.OrthoSlicer at 0x7f802d1227c0>"
      ]
     },
     "execution_count": 64,
     "metadata": {},
     "output_type": "execute_result"
    },
    {
     "data": {
      "image/png": "[encoded data removed]",
      "text/plain": [
       "<Figure size 730x260 with 5 Axes>"
      ]
     },
     "metadata": {},
     "output_type": "display_data"
    }
   ],
   "source": [
    "from nilearn.glm.second_level import SecondLevelModel\n",
    "\n",
    "second_level = SecondLevelModel(n_jobs=2)\n",
    "second_level = second_level.fit(cmaps, design_matrix=design_matrix)\n",
    "\n",
    "right_left_avg = second_level.compute_contrast(\n",
    "    second_level_contrast=\"intercept\", output_type=\"z_score\"\n",
    ")\n",
    "\n",
    "plotting.plot_stat_map(right_left_avg, threshold=3)"
   ]
  },
  {
   "cell_type": "markdown",
   "id": "687de74b-e0d1-4e34-9f2e-af5a8b370d89",
   "metadata": {},
   "source": [
    "## Hypothetical group comparison\n"
   ]
  },
  {
   "cell_type": "code",
   "execution_count": 65,
   "id": "9e1f602e-7216-421f-a890-59704b96238a",
   "metadata": {},
   "outputs": [
    {
     "data": {
      "text/html": [
       "<div>\n",
       "<style scoped>\n",
       "    .dataframe tbody tr th:only-of-type {\n",
       "        vertical-align: middle;\n",
       "    }\n",
       "\n",
       "    .dataframe tbody tr th {\n",
       "        vertical-align: top;\n",
       "    }\n",
       "\n",
       "    .dataframe thead th {\n",
       "        text-align: right;\n",
       "    }\n",
       "</style>\n",
       "<table border=\"1\" class=\"dataframe\">\n",
       "  <thead>\n",
       "    <tr style=\"text-align: right;\">\n",
       "      <th></th>\n",
       "      <th>intercept</th>\n",
       "      <th>group_young</th>\n",
       "      <th>group_old</th>\n",
       "    </tr>\n",
       "  </thead>\n",
       "  <tbody>\n",
       "    <tr>\n",
       "      <th>sub-01</th>\n",
       "      <td>1</td>\n",
       "      <td>1</td>\n",
       "      <td>0</td>\n",
       "    </tr>\n",
       "    <tr>\n",
       "      <th>sub-02</th>\n",
       "      <td>1</td>\n",
       "      <td>1</td>\n",
       "      <td>0</td>\n",
       "    </tr>\n",
       "    <tr>\n",
       "      <th>sub-03</th>\n",
       "      <td>1</td>\n",
       "      <td>1</td>\n",
       "      <td>0</td>\n",
       "    </tr>\n",
       "    <tr>\n",
       "      <th>sub-04</th>\n",
       "      <td>1</td>\n",
       "      <td>1</td>\n",
       "      <td>0</td>\n",
       "    </tr>\n",
       "    <tr>\n",
       "      <th>sub-05</th>\n",
       "      <td>1</td>\n",
       "      <td>1</td>\n",
       "      <td>0</td>\n",
       "    </tr>\n",
       "    <tr>\n",
       "      <th>sub-06</th>\n",
       "      <td>1</td>\n",
       "      <td>1</td>\n",
       "      <td>0</td>\n",
       "    </tr>\n",
       "    <tr>\n",
       "      <th>sub-07</th>\n",
       "      <td>1</td>\n",
       "      <td>1</td>\n",
       "      <td>0</td>\n",
       "    </tr>\n",
       "    <tr>\n",
       "      <th>sub-08</th>\n",
       "      <td>1</td>\n",
       "      <td>1</td>\n",
       "      <td>0</td>\n",
       "    </tr>\n",
       "    <tr>\n",
       "      <th>sub-09</th>\n",
       "      <td>1</td>\n",
       "      <td>1</td>\n",
       "      <td>0</td>\n",
       "    </tr>\n",
       "    <tr>\n",
       "      <th>sub-10</th>\n",
       "      <td>1</td>\n",
       "      <td>1</td>\n",
       "      <td>0</td>\n",
       "    </tr>\n",
       "    <tr>\n",
       "      <th>sub-11</th>\n",
       "      <td>1</td>\n",
       "      <td>0</td>\n",
       "      <td>1</td>\n",
       "    </tr>\n",
       "    <tr>\n",
       "      <th>sub-12</th>\n",
       "      <td>1</td>\n",
       "      <td>0</td>\n",
       "      <td>1</td>\n",
       "    </tr>\n",
       "    <tr>\n",
       "      <th>sub-13</th>\n",
       "      <td>1</td>\n",
       "      <td>0</td>\n",
       "      <td>1</td>\n",
       "    </tr>\n",
       "    <tr>\n",
       "      <th>sub-14</th>\n",
       "      <td>1</td>\n",
       "      <td>0</td>\n",
       "      <td>1</td>\n",
       "    </tr>\n",
       "    <tr>\n",
       "      <th>sub-15</th>\n",
       "      <td>1</td>\n",
       "      <td>0</td>\n",
       "      <td>1</td>\n",
       "    </tr>\n",
       "    <tr>\n",
       "      <th>sub-16</th>\n",
       "      <td>1</td>\n",
       "      <td>0</td>\n",
       "      <td>1</td>\n",
       "    </tr>\n",
       "    <tr>\n",
       "      <th>sub-17</th>\n",
       "      <td>1</td>\n",
       "      <td>0</td>\n",
       "      <td>1</td>\n",
       "    </tr>\n",
       "    <tr>\n",
       "      <th>sub-18</th>\n",
       "      <td>1</td>\n",
       "      <td>0</td>\n",
       "      <td>1</td>\n",
       "    </tr>\n",
       "    <tr>\n",
       "      <th>sub-19</th>\n",
       "      <td>1</td>\n",
       "      <td>0</td>\n",
       "      <td>1</td>\n",
       "    </tr>\n",
       "    <tr>\n",
       "      <th>sub-20</th>\n",
       "      <td>1</td>\n",
       "      <td>0</td>\n",
       "      <td>1</td>\n",
       "    </tr>\n",
       "  </tbody>\n",
       "</table>\n",
       "</div>"
      ],
      "text/plain": [
       "        intercept  group_young  group_old\n",
       "sub-01          1            1          0\n",
       "sub-02          1            1          0\n",
       "sub-03          1            1          0\n",
       "sub-04          1            1          0\n",
       "sub-05          1            1          0\n",
       "sub-06          1            1          0\n",
       "sub-07          1            1          0\n",
       "sub-08          1            1          0\n",
       "sub-09          1            1          0\n",
       "sub-10          1            1          0\n",
       "sub-11          1            0          1\n",
       "sub-12          1            0          1\n",
       "sub-13          1            0          1\n",
       "sub-14          1            0          1\n",
       "sub-15          1            0          1\n",
       "sub-16          1            0          1\n",
       "sub-17          1            0          1\n",
       "sub-18          1            0          1\n",
       "sub-19          1            0          1\n",
       "sub-20          1            0          1"
      ]
     },
     "execution_count": 65,
     "metadata": {},
     "output_type": "execute_result"
    }
   ],
   "source": [
    "design_matrix_groups = pd.DataFrame(\n",
    "    [1] * n_subjects, columns=[\"intercept\"], index=subject_list\n",
    ")\n",
    "\n",
    "# start by initializing the group dummy columns\n",
    "design_matrix_groups[\"group_young\"] = 0\n",
    "design_matrix_groups[\"group_old\"] = 0\n",
    "\n",
    "design_matrix_groups.loc[subject_list[:10], \"group_young\"] = 1\n",
    "design_matrix_groups.loc[subject_list[10:], \"group_old\"] = 1\n",
    "\n",
    "design_matrix_groups"
   ]
  },
  {
   "cell_type": "code",
   "execution_count": null,
   "id": "0ee32511-718d-4258-8fe0-00ecde8631cd",
   "metadata": {},
   "outputs": [],
   "source": [
    "second_level = SecondLevelModel(n_jobs=2)\n",
    "second_level = second_level.fit(cmaps, design_matrix=design_matrix_groups)"
   ]
  },
  {
   "cell_type": "markdown",
   "id": "1fef7502-2705-4e9b-b5b1-42c2999dc7f4",
   "metadata": {},
   "source": [
    "## Define contrasts"
   ]
  },
  {
   "cell_type": "code",
   "execution_count": null,
   "id": "7bec6633-f741-4302-ae09-541e72f50ef9",
   "metadata": {},
   "outputs": [],
   "source": [
    "contrast_matrix = np.eye(design_matrix_groups.shape[1])\n",
    "contrast_matrix"
   ]
  },
  {
   "cell_type": "code",
   "execution_count": null,
   "id": "bc43cdb1-5f08-4bab-9117-39641cd25a7b",
   "metadata": {},
   "outputs": [],
   "source": [
    "contrasts = dict(\n",
    "    [\n",
    "        (column, contrast_matrix[i])\n",
    "        for i, column in enumerate(design_matrix_groups.columns)\n",
    "    ]\n",
    ")\n",
    "print(contrasts)"
   ]
  },
  {
   "cell_type": "code",
   "execution_count": null,
   "id": "bbd73437-b814-4cea-9600-4e9dc241c756",
   "metadata": {},
   "outputs": [],
   "source": [
    "contrasts[\"group_old-young\"] = contrasts[\"group_old\"] - contrasts[\"group_young\"]\n",
    "contrasts[\"group_young-old\"] = -contrasts[\"group_old\"] + contrasts[\"group_young\"]\n",
    "pprint(contrasts)"
   ]
  },
  {
   "cell_type": "code",
   "execution_count": null,
   "id": "c68d0b48-4097-403d-9c17-6e32e12149ca",
   "metadata": {},
   "outputs": [],
   "source": [
    "cmaps_second = {con: None for con in contrasts}\n",
    "\n",
    "for con in contrasts:\n",
    "    print(f\"\\nRunning {con}...\")\n",
    "    print(f\" - Calculating contrast...\")\n",
    "    res = second_level.compute_contrast(contrasts[con], output_type=\"z_score\")\n",
    "    cmaps_second[con] = res\n",
    "    print(\"done.\")"
   ]
  },
  {
   "cell_type": "markdown",
   "id": "d7e78262-5676-4fac-b928-eb12633426ad",
   "metadata": {},
   "source": [
    "## Correcting multiple comparisons"
   ]
  },
  {
   "cell_type": "code",
   "execution_count": null,
   "id": "f3f5abb1-23db-4003-bd25-2c649b7704dd",
   "metadata": {},
   "outputs": [],
   "source": [
    "disp = plotting.plot_stat_map(cmaps_second[\"intercept\"], title=\"Raw z map\")"
   ]
  },
  {
   "cell_type": "code",
   "execution_count": null,
   "id": "c5130a05-4e55-4f20-8a73-93160b464098",
   "metadata": {},
   "outputs": [],
   "source": [
    "from nilearn.glm import threshold_stats_img\n",
    "\n",
    "thresholded_map, threshold = threshold_stats_img(\n",
    "    cmaps_second[\"intercept\"], alpha=0.05, height_control=\"fdr\", cluster_threshold=10\n",
    ")\n",
    "\n",
    "print(f\"The FDR=.05 threshold is {round(threshold, 3)}\")"
   ]
  },
  {
   "cell_type": "code",
   "execution_count": null,
   "id": "6e362d94-216c-41db-bfc1-24c756c8292d",
   "metadata": {},
   "outputs": [],
   "source": [
    "plotting.plot_stat_map(\n",
    "    thresholded_map,\n",
    "    cut_coords=disp.cut_coords,\n",
    "    title=\"Thresholded z map, expected fdr = .05, clusters = 10\",\n",
    "    threshold=threshold,\n",
    ")"
   ]
  },
  {
   "cell_type": "markdown",
   "id": "b0bb16da-ffe5-43b6-b288-d087f894ff2c",
   "metadata": {},
   "source": [
    "# 2. Store objects"
   ]
  },
  {
   "cell_type": "code",
   "execution_count": null,
   "id": "d8b9b604-49c0-4ab1-a9de-04d691d2216c",
   "metadata": {},
   "outputs": [],
   "source": [
    "import pickle\n",
    "\n",
    "pickle.dump(second_level, open(\"second_level.pkl\", \"wb\"))\n",
    "!ls ./"
   ]
  },
  {
   "cell_type": "code",
   "execution_count": null,
   "id": "0221a3c6-9596-49ea-ba14-82392bec9a36",
   "metadata": {},
   "outputs": [],
   "source": [
    "secondlvl_pkl = pickle.load(open(\"second_level.pkl\", \"rb\"))\n",
    "\n",
    "secondlvl_pkl.design_matrix_"
   ]
  },
  {
   "cell_type": "markdown",
   "id": "7300978e-26b5-4cf6-9b51-f1f2365e9fc9",
   "metadata": {
    "id": "il0HZ4UsdAFm"
   },
   "source": [
    "As we have pickled the already fitted object, we can go ahead and evaluate some contrasts (without fitting the model again):"
   ]
  },
  {
   "cell_type": "code",
   "execution_count": null,
   "id": "941455a9-ad9a-48d4-983e-31183fb2e372",
   "metadata": {},
   "outputs": [],
   "source": [
    "right_left_pkl = secondlvl_pkl.compute_contrast(\n",
    "    second_level_contrast=\"intercept\", output_type=\"z_score\"\n",
    ")\n",
    "\n",
    "plotting.plot_stat_map(right_left_pkl, threshold=3)"
   ]
  }
 ],
 "metadata": {
  "kernelspec": {
   "display_name": "Python 3 (ipykernel)",
   "language": "python",
   "name": "python3"
  },
  "language_info": {
   "codemirror_mode": {
    "name": "ipython",
    "version": 3
   },
   "file_extension": ".py",
   "mimetype": "text/x-python",
   "name": "python",
   "nbconvert_exporter": "python",
   "pygments_lexer": "ipython3",
   "version": "3.9.16"
  }
 },
 "nbformat": 4,
 "nbformat_minor": 5
}
